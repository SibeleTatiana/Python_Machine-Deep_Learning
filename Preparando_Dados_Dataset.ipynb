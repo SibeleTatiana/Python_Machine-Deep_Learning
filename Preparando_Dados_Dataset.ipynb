{
  "nbformat": 4,
  "nbformat_minor": 0,
  "metadata": {
    "colab": {
      "provenance": [],
      "toc_visible": true,
      "authorship_tag": "ABX9TyO6pFBlnDG1Q6QI4+G5e3Xg"
    },
    "kernelspec": {
      "name": "python3",
      "display_name": "Python 3"
    },
    "language_info": {
      "name": "python"
    }
  },
  "cells": [
    {
      "cell_type": "markdown",
      "source": [
        "# Carregar o dataset"
      ],
      "metadata": {
        "id": "X2gpK99XshWq"
      }
    },
    {
      "cell_type": "code",
      "source": [
        "df = pd.read_csv('caminho/para/seus_dados.csv')"
      ],
      "metadata": {
        "id": "OLPmbAd9stmH"
      },
      "execution_count": null,
      "outputs": []
    },
    {
      "cell_type": "markdown",
      "source": [
        "# Visualizar as primeiras linhas"
      ],
      "metadata": {
        "id": "TPXqMrHksvGv"
      }
    },
    {
      "cell_type": "code",
      "source": [
        "print(df.head()) #2. Explorar e Entender os Dados\n",
        "#• Verifique as informações básicas (tipos de dados, quantidade de nulos):\n"
      ],
      "metadata": {
        "id": "rnNluobNs21H"
      },
      "execution_count": null,
      "outputs": []
    },
    {
      "cell_type": "markdown",
      "source": [
        "# Informações do DataFrame"
      ],
      "metadata": {
        "id": "gvAsGRlMs7XJ"
      }
    },
    {
      "cell_type": "code",
      "source": [
        "print(df.info())"
      ],
      "metadata": {
        "id": "QpfE-BqQtQS3"
      },
      "execution_count": null,
      "outputs": []
    },
    {
      "cell_type": "markdown",
      "source": [
        "# Estatísticas descritivas"
      ],
      "metadata": {
        "id": "2XSdlZr0tTYP"
      }
    },
    {
      "cell_type": "code",
      "source": [
        "print(df.describe())"
      ],
      "metadata": {
        "id": "tRGpm7BYtaDa"
      },
      "execution_count": null,
      "outputs": []
    },
    {
      "cell_type": "markdown",
      "source": [
        "# Verificar a quantidade de valores nulos por coluna"
      ],
      "metadata": {
        "id": "hAjDVm_6tc3s"
      }
    },
    {
      "cell_type": "code",
      "source": [
        "print(df.isnull().sum()) #3. Converter Valores para Numérico/Inteiro\n",
        "#• Caso alguma coluna esteja como string ou object e contenha valores numéricos, converta para o tipo desejado."
      ],
      "metadata": {
        "id": "u8svN8b0tic_"
      },
      "execution_count": null,
      "outputs": []
    },
    {
      "cell_type": "markdown",
      "source": [
        "##Converte uma coluna para numérico. Se houver erros (valores não numéricos), substitui por NaN."
      ],
      "metadata": {
        "id": "HAJEwWbIt219"
      }
    },
    {
      "cell_type": "code",
      "source": [
        "df['nome_da_coluna'] = pd.to_numeric(df['nome_da_coluna'], errors='coerce')"
      ],
      "metadata": {
        "id": "QLeXMo0DuAGG"
      },
      "execution_count": null,
      "outputs": []
    },
    {
      "cell_type": "markdown",
      "source": [
        "# Para converter para inteiro, primeiro converta para numérico e depois para int (cuidado com NaNs)"
      ],
      "metadata": {
        "id": "mCrBWx3xuEkf"
      }
    },
    {
      "cell_type": "code",
      "source": [
        "df['nome_da_coluna'] = pd.to_numeric(df['nome_da_coluna'], errors='coerce').fillna(0).astype(int)\n",
        "#Observação: Ao converter para inteiro, analise como tratar os valores NaN (preenchendo com valor padrão ou média) para não perder informações.\n",
        "─────────────────────────────\n",
        "#4. Tratamento de Valores Nulos\n",
        "#• Existem duas abordagens comuns:\n",
        "#a) Preencher os valores nulos (imputação)\n",
        "#b) Remover (excluir) as linhas ou colunas com muitos nulos"
      ],
      "metadata": {
        "id": "PQDp9u3PuNCy"
      },
      "execution_count": null,
      "outputs": []
    },
    {
      "cell_type": "markdown",
      "source": [
        "# Exemplo – Imputar com média para colunas numéricas:"
      ],
      "metadata": {
        "id": "Ha-Xr-wauddH"
      }
    },
    {
      "cell_type": "code",
      "source": [
        "for coluna in df.select_dtypes(include=['float64','int64']).columns:\n",
        "media = df[coluna].mean()\n",
        "df[coluna].fillna(media, inplace=True)\n",
        "\n",
        "#Ou, para remover linhas com valores nulos:\n",
        "df.dropna(inplace=True)\n",
        "\n",
        "#• Escolha a estratégia com base no contexto dos dados e na importância da feature. Por vezes, imputar pode ser mais adequado para não perder registros."
      ],
      "metadata": {
        "id": "2TH_PZ7gul3f"
      },
      "execution_count": null,
      "outputs": []
    },
    {
      "cell_type": "markdown",
      "source": [
        "# 5. Correção e Escalonamento dos Dados (Feature Scaling)\n",
        "• Modelos de machine learning frequentemente se beneficiam de dados escalonados.\n",
        "Exemplo com StandardScaler:\n"
      ],
      "metadata": {
        "id": "3Mz6Z5qLuscs"
      }
    },
    {
      "cell_type": "code",
      "source": [
        "from sklearn.preprocessing import StandardScaler\n",
        "scaler = StandardScaler()"
      ],
      "metadata": {
        "id": "AaeQIAXrvPDt"
      },
      "execution_count": null,
      "outputs": []
    },
    {
      "cell_type": "markdown",
      "source": [
        "# Supondo que \"features\" seja uma lista de colunas numéricas a serem escalonadas"
      ],
      "metadata": {
        "id": "ZN7t1CLcvVV-"
      }
    },
    {
      "cell_type": "code",
      "source": [
        "df[features] = scaler.fit_transform(df[features])\n",
        "#Você também pode usar MinMaxScaler, dependendo do algoritmo escolhido."
      ],
      "metadata": {
        "id": "f6rsHKyHvgsy"
      },
      "execution_count": null,
      "outputs": []
    },
    {
      "cell_type": "markdown",
      "source": [
        "##6. Seleção de Features\n",
        "• Identifique quais features terão maior relevância na modelagem. Algumas estratégias incluem:\n",
        " a) Análise de correlação:\n",
        "– Utilize df.corr() para identificar relações fortes entre variáveis e com a variável alvo."
      ],
      "metadata": {
        "id": "pNON7YQXvpFL"
      }
    },
    {
      "cell_type": "code",
      "source": [
        "import seaborn as sns\n",
        "import matplotlib.pyplot as plt"
      ],
      "metadata": {
        "id": "pc78NEkNv3xT"
      },
      "execution_count": null,
      "outputs": []
    },
    {
      "cell_type": "markdown",
      "source": [
        "# Matriz de correlação"
      ],
      "metadata": {
        "id": "W1Hnt3ENv75M"
      }
    },
    {
      "cell_type": "code",
      "source": [
        "correlation_matrix = df.corr()\n",
        "sns.heatmap(correlation_matrix, annot=True, fmt=\".2f\")\n",
        "plt.show()"
      ],
      "metadata": {
        "id": "eZruqeECwFWc"
      },
      "execution_count": null,
      "outputs": []
    },
    {
      "cell_type": "markdown",
      "source": [
        "##b) Técnicas estatísticas:\n",
        "– Teste de hipótese, análise de variância (ANOVA) ou chi-square para dados categóricos.\n"
      ],
      "metadata": {
        "id": "QfG3NmXBwKpc"
      }
    },
    {
      "cell_type": "markdown",
      "source": [
        "###c) Algoritmos de Seleção de Features: – Recursive Feature Elimination (RFE) com modelos como regressão logística ou árvores de decisão – Importância de features baseada em modelos como Random Forest ou Gradient Boosting"
      ],
      "metadata": {
        "id": "jeWc5OX1wa2x"
      }
    },
    {
      "cell_type": "markdown",
      "source": [
        "#Exemplo – Usando RFE com Regressão Logística:"
      ],
      "metadata": {
        "id": "2xff_PZ5w5iY"
      }
    },
    {
      "cell_type": "code",
      "source": [
        "from sklearn.feature_selection import RFE\n",
        "from sklearn.linear_model import LogisticRegression"
      ],
      "metadata": {
        "id": "EgRygP-Aw_Vj"
      },
      "execution_count": null,
      "outputs": []
    },
    {
      "cell_type": "markdown",
      "source": [
        "#Supondo que X sejam suas features e y a variável alvo"
      ],
      "metadata": {
        "id": "yBxJm7y5xHSl"
      }
    },
    {
      "cell_type": "code",
      "source": [
        "model = LogisticRegression()\n",
        "rfe = RFE(model, n_features_to_select=5) # Selecione as 5 melhores features no exemplo\n",
        "rfe = rfe.fit(X, y)\n",
        "selected_features = X.columns[rfe.support_]\n",
        "print(\"Features selecionadas:\", selected_features)"
      ],
      "metadata": {
        "id": "ad-Tz6mCxJsK"
      },
      "execution_count": null,
      "outputs": []
    },
    {
      "cell_type": "markdown",
      "source": [
        "#7. Validação e Preparação Final\n",
        "• Após tratar e selecionar as features, separe os dados em conjuntos de treinamento e teste.\n",
        "Exemplo:"
      ],
      "metadata": {
        "id": "I4X2x2wGxT00"
      }
    },
    {
      "cell_type": "code",
      "source": [
        "from sklearn.model_selection import train_test_split\n",
        "X = df[selected_features] # ou todas as features relevantes\n",
        "y = df['variavel_alvo']\n",
        "X_train, X_test, y_train, y_test = train_test_split(X, y, test_size=0.2, random_state=42)\n",
        "#• Salve o conjunto de dados preparado ou siga diretamente para a etapa de modelagem."
      ],
      "metadata": {
        "id": "L2iZn7hLxfOz"
      },
      "execution_count": null,
      "outputs": []
    },
    {
      "cell_type": "markdown",
      "source": [
        "####Resumo do Passo a Passo:\n",
        "Carregar e visualizar os dados.\n",
        "Explorar a estrutura e detectar valores nulos e tipos de dados.\n",
        "Converter colunas para numérico/integer conforme necessário, utilizando pd.to_numeric().\n",
        "Tratar os valores nulos (imputar com média/mediana/mode ou remover linhas/colunas).\n",
        "Escalonar os dados (normalização ou padronização).\n",
        "Selecionar features relevantes, utilizando análise de correlação e métodos de seleção automática.\n",
        "Separar os conjuntos de treinamento e teste e proceder à modelagem.\n",
        "─────────────────────────────\n",
        "Considerações Finais\n",
        "• Sempre cheque a distribuição dos dados após cada transformação; por exemplo, visualize histogramas para entender as alterações.\n",
        "• Mantenha um registro das transformações aplicadas (por exemplo, através de pipelines do scikit-learn) para garantir a reprodutibilidade.\n",
        "• O tratamento de outliers também pode ser necessário; métodos como a utilização do IQR ou Z-score podem ajudar a identificar e tratar valores extremos.\n",
        "Essas etapas ajudarão a transformar os dados brutos dos sensores em um formato adequado para modelagem, aumentando a acurácia e a robustez do seu modelo.\n"
      ],
      "metadata": {
        "id": "2ZEYGmyGxrZQ"
      }
    }
  ]
}