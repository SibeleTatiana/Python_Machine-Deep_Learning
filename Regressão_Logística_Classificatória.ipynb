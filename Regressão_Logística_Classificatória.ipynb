{
  "nbformat": 4,
  "nbformat_minor": 0,
  "metadata": {
    "colab": {
      "provenance": [],
      "authorship_tag": "ABX9TyMM4Zy4pbmDqImocfv4l0B5"
    },
    "kernelspec": {
      "name": "python3",
      "display_name": "Python 3"
    },
    "language_info": {
      "name": "python"
    }
  },
  "cells": [
    {
      "cell_type": "code",
      "source": [
        "import numpy as np\n",
        "import pandas as pd\n",
        "import seaborn as sns\n",
        "import matplotlib.pyplot as plt\n",
        "from sklearn.model_selection import train_test_split\n",
        "from sklearn.linear_model import LogisticRegression\n",
        "from sklearn.metrics import accuracy_score\n",
        "from sklearn.neural_network import MLPClassifier\n",
        "from sklearn.preprocessing import StandardScaler\n",
        "from sklearn.model_selection import GridSearchCV\n",
        "from sklearn.metrics import confusion_matrix\n",
        "from sklearn import preprocessing\n",
        "from sklearn import metrics\n",
        "from sklearn.neural_network import MLPRegressor\n",
        "from sklearn.metrics import r2_score"
      ],
      "metadata": {
        "id": "gfrfxUCy3n3B"
      },
      "execution_count": null,
      "outputs": []
    },
    {
      "cell_type": "code",
      "source": [
        "df = pd.read_csv('/home/intermittent-renewables-production-france.csv')\n",
        "df.head(1)"
      ],
      "metadata": {
        "id": "F3sHgXAAl_ES"
      },
      "execution_count": null,
      "outputs": []
    },
    {
      "cell_type": "code",
      "source": [
        "# Os seguintes blocos realizam os tratamentos necessários dos dados (Deletando e 'dummyzando')\n",
        "df1 = df.copy()\n",
        "\n",
        "df1 = df1.drop(['Date and Hour',\t'Date',\t'StartHour',\t'EndHour'], axis=1)\n",
        "df1.head()"
      ],
      "metadata": {
        "id": "WSildHo9mDTg"
      },
      "execution_count": null,
      "outputs": []
    },
    {
      "cell_type": "code",
      "source": [
        "df1.isnull().sum()"
      ],
      "metadata": {
        "id": "UIIYwzKCmLDs"
      },
      "execution_count": null,
      "outputs": []
    },
    {
      "cell_type": "code",
      "source": [
        "df1.dropna(inplace=True)"
      ],
      "metadata": {
        "id": "QEmcL-x0mSkf"
      },
      "execution_count": null,
      "outputs": []
    },
    {
      "cell_type": "code",
      "source": [
        "df1.isnull().sum()"
      ],
      "metadata": {
        "id": "hBW1Dzs6mVRF"
      },
      "execution_count": null,
      "outputs": []
    },
    {
      "cell_type": "code",
      "source": [
        "print(df1['dayName'].value_counts())\n",
        "print(df1['monthName'].value_counts())\n",
        "print(df1['dayOfYear'].value_counts())"
      ],
      "metadata": {
        "id": "4GBbWfbHmanA"
      },
      "execution_count": null,
      "outputs": []
    },
    {
      "cell_type": "code",
      "source": [
        "df1['Source'] = df.apply(lambda row: 1 if row['Source'] == 'Solar' else 0, axis=1)\n",
        "df1['Wednesday'] = df.apply(lambda row: 1 if row['dayName'] == 'Wednesday' else 0, axis=1)\n",
        "df1['Thursday'] = df.apply(lambda row: 1 if row['dayName'] == 'Thursday' else 0, axis=1)\n",
        "df1['Friday'] = df.apply(lambda row: 1 if row['dayName'] == 'Friday' else 0, axis=1)\n",
        "df1['Saturday'] = df.apply(lambda row: 1 if row['dayName'] == 'Saturday' else 0, axis=1)\n",
        "df1['Monday'] = df.apply(lambda row: 1 if row['dayName'] == 'Monday' else 0, axis=1)\n",
        "df1['Tuesday'] = df.apply(lambda row: 1 if row['dayName'] == 'Tuesday' else 0, axis=1)\n",
        "df1['Sunday'] = df.apply(lambda row: 1 if row['dayName'] == 'Sunday' else 0, axis=1)\n",
        "\n",
        "df1['January'] = df.apply(lambda row: 1 if row['monthName'] == 'January' else 0, axis=1)\n",
        "df1['February'] = df.apply(lambda row: 1 if row['monthName'] == 'February' else 0, axis=1)\n",
        "df1['March'] = df.apply(lambda row: 1 if row['monthName'] == 'March' else 0, axis=1)\n",
        "df1['April'] = df.apply(lambda row: 1 if row['monthName'] == 'April' else 0, axis=1)\n",
        "df1['May'] = df.apply(lambda row: 1 if row['monthName'] == 'May' else 0, axis=1)\n",
        "df1['June'] = df.apply(lambda row: 1 if row['monthName'] == 'June' else 0, axis=1)\n",
        "df1['July'] = df.apply(lambda row: 1 if row['monthName'] == 'July' else 0, axis=1)\n",
        "df1['August'] = df.apply(lambda row: 1 if row['monthName'] == 'August' else 0, axis=1)\n",
        "df1['September'] = df.apply(lambda row: 1 if row['monthName'] == 'September' else 0, axis=1)\n",
        "df1['October'] = df.apply(lambda row: 1 if row['monthName'] == 'October' else 0, axis=1)\n",
        "df1['November'] = df.apply(lambda row: 1 if row['monthName'] == 'November' else 0, axis=1)\n",
        "df1['December'] = df.apply(lambda row: 1 if row['monthName'] == 'December' else 0, axis=1)\n",
        "\n",
        "df1.drop(['dayName', 'monthName'], axis=1, inplace=True)\n",
        "df1.head(2)"
      ],
      "metadata": {
        "id": "hBJrAvCGmgki"
      },
      "execution_count": null,
      "outputs": []
    },
    {
      "cell_type": "code",
      "source": [
        "df1['Source'].value_counts()"
      ],
      "metadata": {
        "id": "IeHTbyPRmlIj"
      },
      "execution_count": null,
      "outputs": []
    },
    {
      "cell_type": "code",
      "source": [
        "df_solar = df1.copy()  # Define qual será o df para o Source 'Solar'\n",
        "df_wind = df1.copy()   # Define qual será o df para o Source 'Wind'"
      ],
      "metadata": {
        "id": "3iwQURVUmo5M"
      },
      "execution_count": null,
      "outputs": []
    },
    {
      "cell_type": "code",
      "source": [
        "# Separa as bases entre o 'df_solar' e 'df_wind'\n",
        "df_solar = df_solar[df_solar['Source'] != 0]\n",
        "df_wind = df_wind[df_wind['Source'] != 1]"
      ],
      "metadata": {
        "id": "U6I2jnjImsUy"
      },
      "execution_count": null,
      "outputs": []
    },
    {
      "cell_type": "code",
      "source": [
        "df_solar['Source'].value_counts()  # Verificação se foi feito corretamente"
      ],
      "metadata": {
        "id": "tu8K-evpmvdB"
      },
      "execution_count": null,
      "outputs": []
    },
    {
      "cell_type": "code",
      "source": [
        "# Apenas calcula o percentil de 33 e 66 da coluna 'Production' e realiza a criação das classes da variável solicitada dentro de 'df_solar'\n",
        "\n",
        "percentil_production33 = df_solar['Production'].quantile(0.33)\n",
        "percentil_production66 = df_solar['Production'].quantile(0.66)\n",
        "df_solar['Production'] = df_solar.apply(lambda row: 0 if row['Production'] < percentil_production33 else\n",
        "                          2 if row['Production'] > percentil_production66 else 1, axis=1)\n",
        "df_solar[\"Production\"].value_counts()"
      ],
      "metadata": {
        "id": "YpldzOUem1qm"
      },
      "execution_count": null,
      "outputs": []
    },
    {
      "cell_type": "code",
      "source": [
        "print(df_solar['Production'].value_counts())  # Printa o tamanho das classes"
      ],
      "metadata": {
        "id": "u-NfUs0zm2X1"
      },
      "execution_count": null,
      "outputs": []
    },
    {
      "cell_type": "code",
      "source": [
        "# balanceia as amostras em 'df_solar'\n",
        "df_production2 = df_solar[df_solar['Production']==2]\n",
        "df_production1 = df_solar[df_solar['Production']==1]\n",
        "df_production0 = df_solar[df_solar['Production']==0]\n",
        "print(df_production2['Production'].value_counts())\n",
        "print(df_production1['Production'].value_counts())\n",
        "print(df_production0['Production'].value_counts())"
      ],
      "metadata": {
        "id": "bHRhucLfm53E"
      },
      "execution_count": null,
      "outputs": []
    },
    {
      "cell_type": "code",
      "source": [
        "df_production2 = df_production2.sample(n=9633)\n",
        "df_production1 = df_production1.sample(n=9633)\n",
        "df_production0 = df_production0.sample(n=9633)\n",
        "df_solar = pd.concat([df_production2, df_production1, df_production0])\n",
        "df_solar['Production'].value_counts()"
      ],
      "metadata": {
        "id": "iXpemWPnnBgn"
      },
      "execution_count": null,
      "outputs": []
    },
    {
      "cell_type": "code",
      "source": [
        "# Apenas calcula o percentil de 33 e 66 da coluna 'Production' e realiza a criação das classes da variável solicitada dentro de 'df_wind'\n",
        "\n",
        "percentil_production33 = df_wind['Production'].quantile(0.33)\n",
        "percentil_production66 = df_wind['Production'].quantile(0.66)\n",
        "df_wind['Production'] = df_wind.apply(lambda row: 0 if row['Production'] < percentil_production33 else\n",
        "                          2 if row['Production'] > percentil_production66 else 1, axis=1)\n",
        "df_wind[\"Production\"].value_counts()"
      ],
      "metadata": {
        "id": "gLZ8hIDanGGo"
      },
      "execution_count": null,
      "outputs": []
    },
    {
      "cell_type": "code",
      "source": [
        "print(df_wind['Production'].value_counts())  # Printa o tamanho das classes"
      ],
      "metadata": {
        "id": "OJECoJy_nJjL"
      },
      "execution_count": null,
      "outputs": []
    },
    {
      "cell_type": "code",
      "source": [
        "# balanceia as amostras em 'df_wind'\n",
        "df_production2 = df_wind[df_wind['Production']==2]\n",
        "df_production1 = df_wind[df_wind['Production']==1]\n",
        "df_production0 = df_wind[df_wind['Production']==0]\n",
        "print(df_production2['Production'].value_counts())\n",
        "print(df_production1['Production'].value_counts())\n",
        "print(df_production0['Production'].value_counts())"
      ],
      "metadata": {
        "id": "_1Oy9hd7nN56"
      },
      "execution_count": null,
      "outputs": []
    },
    {
      "cell_type": "code",
      "source": [
        "df_production2 = df_production2.sample(n=9866)\n",
        "df_production1 = df_production1.sample(n=9866)\n",
        "df_production0 = df_production0.sample(n=9866)\n",
        "df_wind = pd.concat([df_production2, df_production1, df_production0])\n",
        "df_wind['Production'].value_counts()"
      ],
      "metadata": {
        "id": "eDTG0gMsnSUZ"
      },
      "execution_count": null,
      "outputs": []
    },
    {
      "cell_type": "code",
      "source": [
        "# O seguinte algoritmo realiza o calculo da Regressão Logística para a base de teste de 'df_solar'\n",
        "\n",
        "x = df_solar.drop('Production', axis='columns')\n",
        "y = df_solar['Production']\n",
        "\n",
        "x_scaled = preprocessing.StandardScaler().fit(x)\n",
        "x_train, x_test, y_train, y_test = train_test_split(x, y, test_size = 0.5)\n",
        "\n",
        "classifier = LogisticRegression()\n",
        "classifier.fit(x_train, y_train)\n",
        "y_pred = classifier.predict(x_test)\n",
        "print(f\"Acuracia\", accuracy_score(y_test, y_pred))"
      ],
      "metadata": {
        "id": "-1n6G2g8nW_P"
      },
      "execution_count": null,
      "outputs": []
    },
    {
      "cell_type": "code",
      "source": [
        "# O seguinte algoritmo realiza o calculo da Regressão Logística para a base de teste de 'df_wind'\n",
        "\n",
        "x = df_wind.drop('Production', axis='columns')\n",
        "y = df_wind['Production']\n",
        "\n",
        "x_scaled = preprocessing.StandardScaler().fit(x)\n",
        "x_train, x_test, y_train, y_test = train_test_split(x, y, test_size = 0.5)\n",
        "\n",
        "classifier = LogisticRegression()\n",
        "classifier.fit(x_train, y_train)\n",
        "y_pred = classifier.predict(x_test)\n",
        "print(f\"Acuracia\", accuracy_score(y_test, y_pred))"
      ],
      "metadata": {
        "id": "YJLZU5fKnb0H"
      },
      "execution_count": null,
      "outputs": []
    },
    {
      "cell_type": "code",
      "source": [
        "print(df_solar.columns)  # Recupera a lista de valores para adicionar em nossa variavel 'x'"
      ],
      "metadata": {
        "id": "iePTZvgoncjM"
      },
      "execution_count": null,
      "outputs": []
    },
    {
      "cell_type": "code",
      "source": [
        "# O seguinte algoritmo cria uma rede Multi Layer Perceptron Classifier (MLP Classifier) para o dataset 'df_solar', utilizando os\n",
        "# hiperparametros solicitados e apresentando a acuracia de treino e de teste\n",
        "def MLPClassifier_evaluate(df_solar, features, target):\n",
        "  x = df_solar[features]\n",
        "  y = df_solar[[target]]\n",
        "  x_train, x_test, y_train, y_test = train_test_split(x, y, test_size=0.5, random_state=42)\n",
        "\n",
        "  ss = StandardScaler()\n",
        "  x_train_scaled = ss.fit_transform(x_train)\n",
        "  x_test_scaled = ss.transform(x_test)\n",
        "\n",
        "  nn = MLPClassifier(\n",
        "      max_iter=5000,\n",
        "       hidden_layer_sizes=(6,6,6,6),\n",
        "      activation='tanh',\n",
        "      learning_rate= 'constant',\n",
        "      random_state=42)\n",
        "  nn.fit(x_train_scaled, y_train.values.ravel())\n",
        "\n",
        "  y_test_pred_solar = nn.predict(x_test_scaled)\n",
        "  y_train_pred_solar = nn.predict(x_train_scaled)\n",
        "\n",
        "  print(\"Acuracia treino:\", accuracy_score(y_train, y_train_pred_solar))\n",
        "  print(\"Acuracia teste:\", accuracy_score(y_test, y_test_pred_solar))\n",
        "\n",
        "\n",
        "\n",
        "features = (['Source', 'dayOfYear', 'Wednesday', 'Thursday', 'Friday',\n",
        "       'Saturday', 'Monday', 'Tuesday', 'Sunday', 'January', 'February',\n",
        "       'March', 'April', 'May', 'June', 'July', 'August', 'September',\n",
        "       'October', 'November', 'December'])\n",
        "target = 'Production'\n",
        "MLPClassifier_evaluate(df_solar, features, target)"
      ],
      "metadata": {
        "id": "TF3X5wuuntlW"
      },
      "execution_count": null,
      "outputs": []
    },
    {
      "cell_type": "code",
      "source": [
        "# O seguinte algoritmo cria uma rede Multi Layer Perceptron Classifier (MLP Classifier) para o dataset 'df_wind', utilizando os\n",
        "# hiperparametros solicitados e apresentando a acuracia de treino e de teste\n",
        "def MLPClassifier_evaluate(df_wind, features, target):\n",
        "  x = df_wind[features]\n",
        "  y = df_wind[[target]]\n",
        "  x_train, x_test, y_train, y_test = train_test_split(x, y, test_size=0.5, random_state=42)\n",
        "\n",
        "  ss = StandardScaler()\n",
        "  x_train_scaled = ss.fit_transform(x_train)\n",
        "  x_test_scaled = ss.transform(x_test)\n",
        "\n",
        "  nn = MLPClassifier(\n",
        "      max_iter=5000,\n",
        "       hidden_layer_sizes=(6,6,6,6),\n",
        "      activation='tanh',\n",
        "      learning_rate= 'constant',\n",
        "      random_state=42)\n",
        "  nn.fit(x_train_scaled, y_train.values.ravel())\n",
        "\n",
        "  y_test_pred_nn = nn.predict(x_test_scaled)\n",
        "  y_train_pred_nn = nn.predict(x_train_scaled)\n",
        "\n",
        "  print(\"Acuracia treino:\", accuracy_score(y_train, y_train_pred_nn))\n",
        "  print(\"Acuracia teste:\", accuracy_score(y_test, y_test_pred_nn))\n",
        "\n",
        "\n",
        "features = (['Source', 'dayOfYear', 'Wednesday', 'Thursday', 'Friday',\n",
        "       'Saturday', 'Monday', 'Tuesday', 'Sunday', 'January', 'February',\n",
        "       'March', 'April', 'May', 'June', 'July', 'August', 'September',\n",
        "       'October', 'November', 'December'])\n",
        "target = 'Production'\n",
        "MLPClassifier_evaluate(df_wind, features, target)"
      ],
      "metadata": {
        "id": "1oKlIPbgn1Yx"
      },
      "execution_count": null,
      "outputs": []
    }
  ]
}