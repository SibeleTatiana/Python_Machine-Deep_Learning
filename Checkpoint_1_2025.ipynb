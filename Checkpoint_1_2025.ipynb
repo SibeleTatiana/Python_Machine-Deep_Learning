{
  "nbformat": 4,
  "nbformat_minor": 0,
  "metadata": {
    "colab": {
      "provenance": [],
      "toc_visible": true,
      "authorship_tag": "ABX9TyNwv2vCOW7cWF33YBjfV9T+"
    },
    "kernelspec": {
      "name": "python3",
      "display_name": "Python 3"
    },
    "language_info": {
      "name": "python"
    }
  },
  "cells": [
    {
      "cell_type": "markdown",
      "source": [
        "# 1 - Carregar o dataset"
      ],
      "metadata": {
        "id": "X2gpK99XshWq"
      }
    },
    {
      "cell_type": "code",
      "source": [
        "import pandas as pd\n",
        "import numpy as np\n",
        "df = pd.read_csv('/home/dataset_casas.csv')\n",
        "print(df.head())"
      ],
      "metadata": {
        "id": "OLPmbAd9stmH",
        "colab": {
          "base_uri": "https://localhost:8080/"
        },
        "outputId": "3ba848c9-8689-441e-a644-867c88834093"
      },
      "execution_count": 20,
      "outputs": [
        {
          "output_type": "stream",
          "name": "stdout",
          "text": [
            "   Id  MSSubClass MSZoning  LotFrontage  LotArea Street Alley LotShape  \\\n",
            "0   1          60       RL         65.0     8450   Pave   NaN      Reg   \n",
            "1   2          20       RL         80.0     9600   Pave   NaN      Reg   \n",
            "2   3          60       RL         68.0    11250   Pave   NaN      IR1   \n",
            "3   4          70       RL         60.0     9550   Pave   NaN      IR1   \n",
            "4   5          60       RL         84.0    14260   Pave   NaN      IR1   \n",
            "\n",
            "  LandContour Utilities  ... PoolArea PoolQC Fence MiscFeature MiscVal MoSold  \\\n",
            "0         Lvl    AllPub  ...        0    NaN   NaN         NaN       0      2   \n",
            "1         Lvl    AllPub  ...        0    NaN   NaN         NaN       0      5   \n",
            "2         Lvl    AllPub  ...        0    NaN   NaN         NaN       0      9   \n",
            "3         Lvl    AllPub  ...        0    NaN   NaN         NaN       0      2   \n",
            "4         Lvl    AllPub  ...        0    NaN   NaN         NaN       0     12   \n",
            "\n",
            "  YrSold  SaleType  SaleCondition  SalePrice  \n",
            "0   2008        WD         Normal     208500  \n",
            "1   2007        WD         Normal     181500  \n",
            "2   2008        WD         Normal     223500  \n",
            "3   2006        WD        Abnorml     140000  \n",
            "4   2008        WD         Normal     250000  \n",
            "\n",
            "[5 rows x 81 columns]\n"
          ]
        }
      ]
    },
    {
      "cell_type": "markdown",
      "source": [
        "# 2 - Análise Descritiva - Categórica e Numérica"
      ],
      "metadata": {
        "id": "0-HwSJ5ea0Cw"
      }
    },
    {
      "cell_type": "code",
      "source": [
        "# Análise descritiva das variáveis numéricas\n",
        "print(df.describe())\n",
        "\n",
        "# Análise descritiva das variáveis categóricas\n",
        "print(df.describe(include=['object']))\n",
        "\n",
        "# Verificar valores nulos\n",
        "print(df.isnull().sum())"
      ],
      "metadata": {
        "colab": {
          "base_uri": "https://localhost:8080/"
        },
        "id": "QUrxnW3ha-34",
        "outputId": "1eddbd6c-433a-4791-c06b-75f54307f9a3"
      },
      "execution_count": 21,
      "outputs": [
        {
          "output_type": "stream",
          "name": "stdout",
          "text": [
            "                Id   MSSubClass  LotFrontage        LotArea  OverallQual  \\\n",
            "count  1460.000000  1460.000000  1201.000000    1460.000000  1460.000000   \n",
            "mean    730.500000    56.897260    70.049958   10516.828082     6.099315   \n",
            "std     421.610009    42.300571    24.284752    9981.264932     1.382997   \n",
            "min       1.000000    20.000000    21.000000    1300.000000     1.000000   \n",
            "25%     365.750000    20.000000    59.000000    7553.500000     5.000000   \n",
            "50%     730.500000    50.000000    69.000000    9478.500000     6.000000   \n",
            "75%    1095.250000    70.000000    80.000000   11601.500000     7.000000   \n",
            "max    1460.000000   190.000000   313.000000  215245.000000    10.000000   \n",
            "\n",
            "       OverallCond    YearBuilt  YearRemodAdd   MasVnrArea   BsmtFinSF1  ...  \\\n",
            "count  1460.000000  1460.000000   1460.000000  1452.000000  1460.000000  ...   \n",
            "mean      5.575342  1971.267808   1984.865753   103.685262   443.639726  ...   \n",
            "std       1.112799    30.202904     20.645407   181.066207   456.098091  ...   \n",
            "min       1.000000  1872.000000   1950.000000     0.000000     0.000000  ...   \n",
            "25%       5.000000  1954.000000   1967.000000     0.000000     0.000000  ...   \n",
            "50%       5.000000  1973.000000   1994.000000     0.000000   383.500000  ...   \n",
            "75%       6.000000  2000.000000   2004.000000   166.000000   712.250000  ...   \n",
            "max       9.000000  2010.000000   2010.000000  1600.000000  5644.000000  ...   \n",
            "\n",
            "        WoodDeckSF  OpenPorchSF  EnclosedPorch    3SsnPorch  ScreenPorch  \\\n",
            "count  1460.000000  1460.000000    1460.000000  1460.000000  1460.000000   \n",
            "mean     94.244521    46.660274      21.954110     3.409589    15.060959   \n",
            "std     125.338794    66.256028      61.119149    29.317331    55.757415   \n",
            "min       0.000000     0.000000       0.000000     0.000000     0.000000   \n",
            "25%       0.000000     0.000000       0.000000     0.000000     0.000000   \n",
            "50%       0.000000    25.000000       0.000000     0.000000     0.000000   \n",
            "75%     168.000000    68.000000       0.000000     0.000000     0.000000   \n",
            "max     857.000000   547.000000     552.000000   508.000000   480.000000   \n",
            "\n",
            "          PoolArea       MiscVal       MoSold       YrSold      SalePrice  \n",
            "count  1460.000000   1460.000000  1460.000000  1460.000000    1460.000000  \n",
            "mean      2.758904     43.489041     6.321918  2007.815753  180921.195890  \n",
            "std      40.177307    496.123024     2.703626     1.328095   79442.502883  \n",
            "min       0.000000      0.000000     1.000000  2006.000000   34900.000000  \n",
            "25%       0.000000      0.000000     5.000000  2007.000000  129975.000000  \n",
            "50%       0.000000      0.000000     6.000000  2008.000000  163000.000000  \n",
            "75%       0.000000      0.000000     8.000000  2009.000000  214000.000000  \n",
            "max     738.000000  15500.000000    12.000000  2010.000000  755000.000000  \n",
            "\n",
            "[8 rows x 38 columns]\n",
            "       MSZoning Street Alley LotShape LandContour Utilities LotConfig  \\\n",
            "count      1460   1460    91     1460        1460      1460      1460   \n",
            "unique        5      2     2        4           4         2         5   \n",
            "top          RL   Pave  Grvl      Reg         Lvl    AllPub    Inside   \n",
            "freq       1151   1454    50      925        1311      1459      1052   \n",
            "\n",
            "       LandSlope Neighborhood Condition1  ... GarageType GarageFinish  \\\n",
            "count       1460         1460       1460  ...       1379         1379   \n",
            "unique         3           25          9  ...          6            3   \n",
            "top          Gtl        NAmes       Norm  ...     Attchd          Unf   \n",
            "freq        1382          225       1260  ...        870          605   \n",
            "\n",
            "       GarageQual GarageCond PavedDrive PoolQC  Fence MiscFeature SaleType  \\\n",
            "count        1379       1379       1460      7    281          54     1460   \n",
            "unique          5          5          3      3      4           4        9   \n",
            "top            TA         TA          Y     Gd  MnPrv        Shed       WD   \n",
            "freq         1311       1326       1340      3    157          49     1267   \n",
            "\n",
            "       SaleCondition  \n",
            "count           1460  \n",
            "unique             6  \n",
            "top           Normal  \n",
            "freq            1198  \n",
            "\n",
            "[4 rows x 43 columns]\n",
            "Id                 0\n",
            "MSSubClass         0\n",
            "MSZoning           0\n",
            "LotFrontage      259\n",
            "LotArea            0\n",
            "                ... \n",
            "MoSold             0\n",
            "YrSold             0\n",
            "SaleType           0\n",
            "SaleCondition      0\n",
            "SalePrice          0\n",
            "Length: 81, dtype: int64\n"
          ]
        }
      ]
    },
    {
      "cell_type": "code",
      "source": [
        "# Verificar apenas as colunas com valores nulos\n",
        "null_columns = df.columns[df.isnull().any()]\n",
        "print(df[null_columns].isnull().sum())"
      ],
      "metadata": {
        "colab": {
          "base_uri": "https://localhost:8080/"
        },
        "id": "tGAJmsCDj3C7",
        "outputId": "0e4bc6a8-091d-4867-8be9-27d13b5776c1"
      },
      "execution_count": 22,
      "outputs": [
        {
          "output_type": "stream",
          "name": "stdout",
          "text": [
            "LotFrontage      259\n",
            "Alley           1369\n",
            "MasVnrType       872\n",
            "MasVnrArea         8\n",
            "BsmtQual          37\n",
            "BsmtCond          37\n",
            "BsmtExposure      38\n",
            "BsmtFinType1      37\n",
            "BsmtFinType2      38\n",
            "Electrical         1\n",
            "FireplaceQu      690\n",
            "GarageType        81\n",
            "GarageYrBlt       81\n",
            "GarageFinish      81\n",
            "GarageQual        81\n",
            "GarageCond        81\n",
            "PoolQC          1453\n",
            "Fence           1179\n",
            "MiscFeature     1406\n",
            "dtype: int64\n"
          ]
        }
      ]
    },
    {
      "cell_type": "markdown",
      "source": [
        "# 3 - Feature Engineering"
      ],
      "metadata": {
        "id": "PHbr1xytbSM7"
      }
    },
    {
      "cell_type": "code",
      "source": [
        "from sklearn.preprocessing import LabelEncoder\n",
        "\n",
        "# Tratar valores nulos\n",
        "df['LotFrontage'] = df['LotFrontage'].fillna(df['LotFrontage'].mean())\n",
        "df['Alley'] = df['Alley'].fillna('NoAlley')\n",
        "df['PoolQC'] = df['PoolQC'].fillna('NoPool')\n",
        "df['Fence'] = df['Fence'].fillna('NoFence')\n",
        "df['MiscFeature'] = df['MiscFeature'].fillna('NoMiscFeature')\n",
        "\n",
        "# Criar novas colunas\n",
        "df['TotalSF'] = df['TotalBsmtSF'] + df['1stFlrSF'] + df['2ndFlrSF']\n",
        "df['TotalBath'] = df['FullBath'] + 0.5 * df['HalfBath'] + df['BsmtFullBath'] + 0.5 * df['BsmtHalfBath']\n",
        "\n",
        "# Aplicar Label Encoding para variáveis categóricas\n",
        "le = LabelEncoder()\n",
        "for col in df.select_dtypes(include=['object']).columns:\n",
        "    df[col] = le.fit_transform(df[col].astype(str))\n",
        "\n",
        "# Aplicar get_dummies para variáveis categóricas\n",
        "df = pd.get_dummies(df, columns=df.select_dtypes(include=['object']).columns, drop_first=True)\n",
        "\n",
        "# Verificar o dataframe após a engenharia de features\n",
        "print(df.head())"
      ],
      "metadata": {
        "colab": {
          "base_uri": "https://localhost:8080/"
        },
        "id": "4D31vix2bU-L",
        "outputId": "b17797b7-28cc-4fe0-b6d7-d524d38e85f7"
      },
      "execution_count": 23,
      "outputs": [
        {
          "output_type": "stream",
          "name": "stdout",
          "text": [
            "   Id  MSSubClass  MSZoning  LotFrontage  LotArea  Street  Alley  LotShape  \\\n",
            "0   1          60         3         65.0     8450       1      1         3   \n",
            "1   2          20         3         80.0     9600       1      1         3   \n",
            "2   3          60         3         68.0    11250       1      1         0   \n",
            "3   4          70         3         60.0     9550       1      1         0   \n",
            "4   5          60         3         84.0    14260       1      1         0   \n",
            "\n",
            "   LandContour  Utilities  ...  Fence  MiscFeature  MiscVal  MoSold  YrSold  \\\n",
            "0            3          0  ...      4            1        0       2    2008   \n",
            "1            3          0  ...      4            1        0       5    2007   \n",
            "2            3          0  ...      4            1        0       9    2008   \n",
            "3            3          0  ...      4            1        0       2    2006   \n",
            "4            3          0  ...      4            1        0      12    2008   \n",
            "\n",
            "   SaleType  SaleCondition  SalePrice  TotalSF  TotalBath  \n",
            "0         8              4     208500     2566        3.5  \n",
            "1         8              4     181500     2524        2.5  \n",
            "2         8              4     223500     2706        3.5  \n",
            "3         8              0     140000     2473        2.0  \n",
            "4         8              4     250000     3343        3.5  \n",
            "\n",
            "[5 rows x 83 columns]\n"
          ]
        }
      ]
    },
    {
      "cell_type": "markdown",
      "source": [
        "# 4 - Modelagem (baseline)"
      ],
      "metadata": {
        "id": "uukCIjwZb33y"
      }
    },
    {
      "cell_type": "code",
      "source": [
        "from sklearn.model_selection import train_test_split\n",
        "from sklearn.linear_model import LinearRegression\n",
        "from sklearn.metrics import mean_absolute_percentage_error\n",
        "from sklearn.impute import SimpleImputer\n",
        "\n",
        "# Separar features e target\n",
        "X = df.drop(['SalePrice', 'Id'], axis=1)\n",
        "y = df['SalePrice']\n",
        "\n",
        "# Dividir o dataset em treino e teste\n",
        "X_train, X_test, y_train, y_test = train_test_split(X, y, test_size=0.2, random_state=42)\n",
        "\n",
        "# Tratar valores nulos usando SimpleImputer\n",
        "imputer = SimpleImputer(strategy='mean')\n",
        "X_train_imputed = imputer.fit_transform(X_train)\n",
        "X_test_imputed = imputer.transform(X_test)\n",
        "\n",
        "# Treinar o modelo baseline\n",
        "model_baseline = LinearRegression()\n",
        "model_baseline.fit(X_train_imputed, y_train)\n",
        "\n",
        "# Fazer previsões\n",
        "y_pred_baseline = model_baseline.predict(X_test_imputed)\n",
        "\n",
        "# Calcular MAPE\n",
        "mape_baseline = mean_absolute_percentage_error(y_test, y_pred_baseline)\n",
        "print(f'MAPE do modelo baseline: {mape_baseline}')"
      ],
      "metadata": {
        "colab": {
          "base_uri": "https://localhost:8080/"
        },
        "id": "E9Dp1ajscsLs",
        "outputId": "cfbfc3ab-24c6-4bd6-9b37-e1849855c04a"
      },
      "execution_count": 24,
      "outputs": [
        {
          "output_type": "stream",
          "name": "stdout",
          "text": [
            "MAPE do modelo baseline: 0.12950479231609247\n"
          ]
        }
      ]
    },
    {
      "cell_type": "markdown",
      "source": [
        "# 5 - Modelagem (modelo melhorado com RandomSearch)"
      ],
      "metadata": {
        "id": "3D3gRQ6idJ_h"
      }
    },
    {
      "cell_type": "code",
      "source": [
        "from sklearn.tree import DecisionTreeRegressor\n",
        "from sklearn.model_selection import RandomizedSearchCV\n",
        "from scipy.stats import randint\n",
        "\n",
        "# Definir o espaço de busca para os hiperparâmetros\n",
        "param_dist = {\n",
        "    'max_depth': randint(1, 20),\n",
        "    'min_samples_split': randint(2, 20),\n",
        "    'min_samples_leaf': randint(1, 20)\n",
        "}\n",
        "\n",
        "# Inicializar o modelo e o RandomizedSearchCV\n",
        "model = DecisionTreeRegressor(random_state=42)\n",
        "random_search = RandomizedSearchCV(model, param_distributions=param_dist, n_iter=100, cv=5, random_state=42, n_jobs=-1)\n",
        "\n",
        "# Treinar o modelo\n",
        "random_search.fit(X_train, y_train)\n",
        "\n",
        "# Melhor modelo\n",
        "best_model = random_search.best_estimator_\n",
        "\n",
        "# Fazer previsões com o melhor modelo\n",
        "y_pred_improved = best_model.predict(X_test)\n",
        "\n",
        "# Calcular MAPE\n",
        "mape_improved = mean_absolute_percentage_error(y_test, y_pred_improved)\n",
        "print(f'MAPE do modelo melhorado: {mape_improved}')\n",
        "\n",
        "# Melhores hiperparâmetros\n",
        "print(f'Melhores hiperparâmetros: {random_search.best_params_}')"
      ],
      "metadata": {
        "colab": {
          "base_uri": "https://localhost:8080/"
        },
        "id": "oGzRr9mqdNNH",
        "outputId": "a1057608-60df-4b14-a445-159b50e9bda9"
      },
      "execution_count": 25,
      "outputs": [
        {
          "output_type": "stream",
          "name": "stdout",
          "text": [
            "MAPE do modelo melhorado: 0.1447581088204801\n",
            "Melhores hiperparâmetros: {'max_depth': 8, 'min_samples_leaf': 3, 'min_samples_split': 4}\n"
          ]
        }
      ]
    },
    {
      "cell_type": "markdown",
      "source": [
        "# 6 - Métricas (MAPE para modelo baseline e melhorado)"
      ],
      "metadata": {
        "id": "Xl3Ns2PVdlfh"
      }
    },
    {
      "cell_type": "code",
      "source": [
        "print(f'MAPE do modelo baseline: {mape_baseline}')\n",
        "print(f'MAPE do modelo melhorado: {mape_improved}')"
      ],
      "metadata": {
        "colab": {
          "base_uri": "https://localhost:8080/"
        },
        "id": "pK17osCidoaZ",
        "outputId": "058cce37-7d71-47af-c4cb-d6e345a8dd40"
      },
      "execution_count": 26,
      "outputs": [
        {
          "output_type": "stream",
          "name": "stdout",
          "text": [
            "MAPE do modelo baseline: 0.12950479231609247\n",
            "MAPE do modelo melhorado: 0.1447581088204801\n"
          ]
        }
      ]
    }
  ]
}