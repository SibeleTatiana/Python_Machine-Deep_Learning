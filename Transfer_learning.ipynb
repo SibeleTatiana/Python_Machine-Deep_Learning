{
  "nbformat": 4,
  "nbformat_minor": 0,
  "metadata": {
    "colab": {
      "provenance": [],
      "toc_visible": true,
      "authorship_tag": "ABX9TyMx/PANg9YqresbDfyqscHI"
    },
    "kernelspec": {
      "name": "python3",
      "display_name": "Python 3"
    },
    "language_info": {
      "name": "python"
    }
  },
  "cells": [
    {
      "cell_type": "markdown",
      "source": [
        "#Transfer learning a partir do modelo **VGG16**"
      ],
      "metadata": {
        "id": "ORmAXyN6V2W0"
      }
    },
    {
      "cell_type": "markdown",
      "source": [
        "##Adaptando-o a um problema de classificação de doenças em plantas."
      ],
      "metadata": {
        "id": "wGF0BwCRW_6F"
      }
    },
    {
      "cell_type": "markdown",
      "source": [
        "###Esse exemplo utiliza ImageDataGenerator para carregar e aumentar os dados, e mostra como congelar as camadas iniciais do VGG16 e adicionar novas camadas para a tarefa específica.\n",
        "\n",
        "Você pode adaptar esse exemplo para ResNet ou outros modelos pré-treinados seguindo uma lógica semelhante.\n"
      ],
      "metadata": {
        "id": "QEJThdM3WdXt"
      }
    },
    {
      "cell_type": "markdown",
      "source": [
        "# Importar pacotes necessários"
      ],
      "metadata": {
        "id": "JnwNiohRZkJ8"
      }
    },
    {
      "cell_type": "code",
      "source": [
        "import tensorflow as tf\n",
        "from tensorflow.keras.applications import VGG16 # ou use ResNet50, ResNet101 conforme desejado\n",
        "from tensorflow.keras.models import Model\n",
        "from tensorflow.keras.layers import Dense, GlobalAveragePooling2D, Dropout\n",
        "from tensorflow.keras.preprocessing.image import ImageDataGenerator\n",
        "from tensorflow.keras.optimizers import Adam"
      ],
      "metadata": {
        "id": "NFtfe3BdYovT"
      },
      "execution_count": null,
      "outputs": []
    },
    {
      "cell_type": "markdown",
      "source": [
        "# Parâmetros do treinamento"
      ],
      "metadata": {
        "id": "QGoUPLZjZz7X"
      }
    },
    {
      "cell_type": "code",
      "source": [
        "img_height, img_width = 224, 224 # Tamanho esperado pela VGG16\n",
        "batch_size = 32\n",
        "epochs = 20\n",
        "num_classes = 3 # Exemplo: número de categorias de doenças em plantas"
      ],
      "metadata": {
        "id": "7CN65JJ4Z3XY"
      },
      "execution_count": null,
      "outputs": []
    },
    {
      "cell_type": "markdown",
      "source": [
        "# Diretórios com os dados ()"
      ],
      "metadata": {
        "id": "Ris8coZ-aBUM"
      }
    },
    {
      "cell_type": "code",
      "source": [
        "train_data_dir = 'caminho/para/train'\n",
        "validation_data_dir = 'caminho/para/validation'"
      ],
      "metadata": {
        "id": "fOtF4OsOaFOb"
      },
      "execution_count": null,
      "outputs": []
    },
    {
      "cell_type": "markdown",
      "source": [
        "# Pré-processamento e aumento de dados"
      ],
      "metadata": {
        "id": "CXa17618aLRH"
      }
    },
    {
      "cell_type": "code",
      "source": [
        "train_datagen = ImageDataGenerator(\n",
        "rescale=1./255,\n",
        "rotation_range=30,\n",
        "width_shift_range=0.2,\n",
        "height_shift_range=0.2,\n",
        "horizontal_flip=True,\n",
        "fill_mode='nearest'\n",
        ")\n",
        "val_datagen = ImageDataGenerator(rescale=1./255)\n",
        "train_generator = train_datagen.flow_from_directory(\n",
        "train_data_dir,\n",
        "target_size=(img_height, img_width),\n",
        "batch_size=batch_size,\n",
        "class_mode='categorical'\n",
        ")\n",
        "validation_generator = val_datagen.flow_from_directory(\n",
        "validation_data_dir,\n",
        "target_size=(img_height, img_width),\n",
        "batch_size=batch_size,\n",
        "class_mode='categorical'\n",
        ")"
      ],
      "metadata": {
        "id": "Hd_rvC4BaRrB"
      },
      "execution_count": null,
      "outputs": []
    },
    {
      "cell_type": "markdown",
      "source": [
        "# Carregar o modelo VGG16 pré-treinado sem as camadas de classificação (top)"
      ],
      "metadata": {
        "id": "GV88_sB4afP8"
      }
    },
    {
      "cell_type": "code",
      "source": [
        "base_model = VGG16(weights='imagenet', include_top=False, input_shape=(img_height, img_width, 3))"
      ],
      "metadata": {
        "id": "gN1TI-yuajh7"
      },
      "execution_count": null,
      "outputs": []
    },
    {
      "cell_type": "markdown",
      "source": [
        "# Congelar as camadas do modelo base para não alterar os pesos pré-treinados"
      ],
      "metadata": {
        "id": "ywXrKf_JarcV"
      }
    },
    {
      "cell_type": "code",
      "source": [
        "for layer in base_model.layers:\n",
        "layer.trainable = False"
      ],
      "metadata": {
        "id": "8sSXAlxwavc2"
      },
      "execution_count": null,
      "outputs": []
    },
    {
      "cell_type": "markdown",
      "source": [
        "# Adicionar novas camadas para a nossa tarefa específica"
      ],
      "metadata": {
        "id": "lb3HumNGa1HY"
      }
    },
    {
      "cell_type": "code",
      "source": [
        "x = base_model.output\n",
        "x = GlobalAveragePooling2D()(x) # Reduz a dimensão e extrai features globais\n",
        "x = Dense(1024, activation='relu')(x)\n",
        "x = Dropout(0.5)(x)\n",
        "predictions = Dense(num_classes, activation='softmax')(x)"
      ],
      "metadata": {
        "id": "Puc3tKdXa9fD"
      },
      "execution_count": null,
      "outputs": []
    },
    {
      "cell_type": "markdown",
      "source": [
        "# Modelo final para fine-tuning"
      ],
      "metadata": {
        "id": "OU05B9ecbLsj"
      }
    },
    {
      "cell_type": "code",
      "source": [
        "model = Model(inputs=base_model.input, outputs=predictions)"
      ],
      "metadata": {
        "id": "5ncAbBC9bO1V"
      },
      "execution_count": null,
      "outputs": []
    },
    {
      "cell_type": "markdown",
      "source": [
        "# Compilar o modelo"
      ],
      "metadata": {
        "id": "ozRvgHJgbTqk"
      }
    },
    {
      "cell_type": "code",
      "source": [
        "model.compile(optimizer=Adam(lr=1e-4), loss='categorical_crossentropy', metrics=['accuracy'])"
      ],
      "metadata": {
        "id": "SF3cwFnnba5I"
      },
      "execution_count": null,
      "outputs": []
    },
    {
      "cell_type": "markdown",
      "source": [
        "# Visualizar o resumo do modelo montado"
      ],
      "metadata": {
        "id": "Q4nFUDA3bgkK"
      }
    },
    {
      "cell_type": "code",
      "source": [
        "model.summary()"
      ],
      "metadata": {
        "id": "dYzpm69rbmDI"
      },
      "execution_count": null,
      "outputs": []
    },
    {
      "cell_type": "markdown",
      "source": [
        "# Treinar o modelo"
      ],
      "metadata": {
        "id": "0pSTusETbrex"
      }
    },
    {
      "cell_type": "code",
      "source": [
        "history = model.fit(\n",
        "train_generator,\n",
        "steps_per_epoch=train_generator.samples // batch_size,\n",
        "epochs=epochs,\n",
        "validation_data=validation_generator,\n",
        "validation_steps=validation_generator.samples // batch_size\n",
        ")"
      ],
      "metadata": {
        "id": "7szL-Gf8bx1Q"
      },
      "execution_count": null,
      "outputs": []
    }
  ]
}