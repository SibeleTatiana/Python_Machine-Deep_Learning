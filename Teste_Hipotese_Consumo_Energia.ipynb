{
  "nbformat": 4,
  "nbformat_minor": 0,
  "metadata": {
    "colab": {
      "provenance": [],
      "authorship_tag": "ABX9TyPYzCz+tc/LC+yqRkVIwm0T"
    },
    "kernelspec": {
      "name": "python3",
      "display_name": "Python 3"
    },
    "language_info": {
      "name": "python"
    }
  },
  "cells": [
    {
      "cell_type": "code",
      "execution_count": 1,
      "metadata": {
        "colab": {
          "base_uri": "https://localhost:8080/"
        },
        "id": "8a7yBSZLT2jZ",
        "outputId": "8e902921-27c7-4a35-c2cd-b3a5be41e0a5"
      },
      "outputs": [
        {
          "output_type": "stream",
          "name": "stdout",
          "text": [
            "Resultados principais:\n",
            "     Nome_eletrodomestico  Economia_kwh  Economia_custo  Custo_reduzido_mensal\n",
            "0               Geladeira         19.20          17.280                112.320\n",
            "1        Máquina de lavar         12.00          10.800                 10.800\n",
            "2                  TV LED          2.00           1.800                 11.700\n",
            "3             Lâmpada LED          0.16           0.144                  0.936\n",
            "4  Ferro de passar roupas          4.80           4.320                 17.280\n",
            "5       Secador de cabelo          3.00           2.700                 17.550\n",
            "6              Lava louça          7.20           6.480                 17.820\n",
            "7         Ar condicionado         64.00          57.600                374.400\n",
            "8              Ventilador          3.20           2.880                 18.720\n",
            "9             Micro-ondas          2.40           2.160                 14.040\n",
            "\n",
            "Teste de hipótese:\n",
            "Estatística do teste: 1.9418502385764798\n",
            "P-valor: 0.08405936727442757\n",
            "Não há diferença significativa nos custos após a redução.\n"
          ]
        }
      ],
      "source": [
        "import pandas as pd\n",
        "from scipy.stats import ttest_rel\n",
        "\n",
        "# Carregar o arquivo Excel (substitua o caminho pelo local correto no Colab)\n",
        "file_path = '/home/consumo_energia_eletrodomesticos.xlsx'  # Atualize se necessário\n",
        "df = pd.read_excel(file_path)\n",
        "\n",
        "# Função para calcular economia de consumo e custo\n",
        "def calcular_economia(df):\n",
        "    # Adicionando coluna de economia mensal de consumo (4 dias a menos no mês)\n",
        "    df['Consumo_reduzido_kwh_mes'] = df['Consumo_kwh_mes'] * (df['Dias_uso_mes'] - 4) / df['Dias_uso_mes']\n",
        "    df['Custo_reduzido_mensal'] = df['Consumo_reduzido_kwh_mes'] * df['Custo_kwh']\n",
        "\n",
        "    # Economia de consumo e custo\n",
        "    df['Economia_kwh'] = df['Consumo_kwh_mes'] - df['Consumo_reduzido_kwh_mes']\n",
        "    df['Economia_custo'] = df['Custo_mensal'] - df['Custo_reduzido_mensal']\n",
        "\n",
        "    return df\n",
        "\n",
        "# Aplicar a função no dataset\n",
        "df = calcular_economia(df)\n",
        "\n",
        "# Teste de hipótese: diferença significativa no custo\n",
        "stat, p_value = ttest_rel(df['Custo_mensal'], df['Custo_reduzido_mensal'])\n",
        "\n",
        "# Exibir resultados principais\n",
        "print(\"Resultados principais:\")\n",
        "print(df[['Nome_eletrodomestico', 'Economia_kwh', 'Economia_custo', 'Custo_reduzido_mensal']])\n",
        "\n",
        "print(\"\\nTeste de hipótese:\")\n",
        "print(f\"Estatística do teste: {stat}\")\n",
        "print(f\"P-valor: {p_value}\")\n",
        "\n",
        "# Interpretação do teste de hipótese\n",
        "if p_value < 0.05:\n",
        "    print(\"Diferença significativa nos custos após a redução.\")\n",
        "else:\n",
        "    print(\"Não há diferença significativa nos custos após a redução.\")\n"
      ]
    }
  ]
}